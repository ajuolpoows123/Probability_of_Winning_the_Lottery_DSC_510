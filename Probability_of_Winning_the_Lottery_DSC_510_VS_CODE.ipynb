{
 "cells": [
  {
   "cell_type": "code",
   "execution_count": 1,
   "metadata": {},
   "outputs": [
    {
     "name": "stdout",
     "output_type": "stream",
     "text": [
      "The probability of winning the grand prize is: 0.0000000555\n"
     ]
    }
   ],
   "source": [
    "from math import comb\n",
    "\n",
    "def winning_probability():\n",
    "    total_combinations = comb(51, 6)\n",
    "    return 1 / total_combinations\n",
    "\n",
    "win_prob = winning_probability()\n",
    "print(f\"The probability of winning the grand prize is: {win_prob:.10f}\")"
   ]
  },
  {
   "cell_type": "code",
   "execution_count": 2,
   "metadata": {},
   "outputs": [
    {
     "name": "stdout",
     "output_type": "stream",
     "text": [
      "Alexandra's total spending: $146000\n",
      "Probability Alexandra wins at least once: 0.0016200564\n"
     ]
    }
   ],
   "source": [
    "def lifetime_spending(ticket_cost=5, days_per_year=365, years=80):\n",
    "    total_tickets = days_per_year * years\n",
    "    return total_tickets * ticket_cost\n",
    "\n",
    "def probability_at_least_one_win(win_prob, total_tickets):\n",
    "    prob_no_win = (1 - win_prob) ** total_tickets\n",
    "    return 1 - prob_no_win\n",
    "\n",
    "spending = lifetime_spending()\n",
    "total_tickets = 365 * 80\n",
    "win_prob = winning_probability()\n",
    "alexandra_win_prob = probability_at_least_one_win(win_prob, total_tickets)\n",
    "\n",
    "print(f\"Alexandra's total spending: ${spending}\")\n",
    "print(f\"Probability Alexandra wins at least once: {alexandra_win_prob:.10f}\")"
   ]
  },
  {
   "cell_type": "code",
   "execution_count": 3,
   "metadata": {},
   "outputs": [
    {
     "name": "stdout",
     "output_type": "stream",
     "text": [
      "Minimum number of friends needed for each epsilon value:\n",
      "epsilon = 1e-05: Nmin = 181\n",
      "epsilon = 0.001: Nmin = 18019\n",
      "epsilon = 0.1: Nmin = 1897486\n",
      "epsilon = 0.5: Nmin = 12483207\n"
     ]
    }
   ],
   "source": [
    "import math\n",
    "\n",
    "def minimum_friends(win_prob, epsilon):\n",
    "    N = math.ceil(math.log(1 - epsilon) / math.log(1 - win_prob))\n",
    "    return N\n",
    "\n",
    "epsilon_values = [10**-5, 10**-3, 0.1, 0.5]\n",
    "win_prob = winning_probability()\n",
    "Nmin_values = {epsilon: minimum_friends(win_prob, epsilon) for epsilon in epsilon_values}\n",
    "\n",
    "print(\"Minimum number of friends needed for each epsilon value:\")\n",
    "for epsilon, N in Nmin_values.items():\n",
    "    print(f\"epsilon = {epsilon}: Nmin = {N}\")"
   ]
  },
  {
   "cell_type": "code",
   "execution_count": 4,
   "metadata": {},
   "outputs": [
    {
     "name": "stdout",
     "output_type": "stream",
     "text": [
      "The probability of winning the consolation prize is: 0.0157583848\n",
      "Expected value of the consolation prize: $0.79\n"
     ]
    }
   ],
   "source": [
    "def consolation_probability():\n",
    "    ways_to_choose_3_correct = comb(6, 3)\n",
    "    ways_to_choose_3_incorrect = comb(51 - 6, 3)\n",
    "    total_combinations = comb(51, 6)\n",
    "    return (ways_to_choose_3_correct * ways_to_choose_3_incorrect) / total_combinations\n",
    "\n",
    "consolation_prob = consolation_probability()\n",
    "print(f\"The probability of winning the consolation prize is: {consolation_prob:.10f}\")\n",
    "\n",
    "# Expected value calculation with an assumed consolation prize amount\n",
    "consolation_prize_amount = 50  # Example amount\n",
    "expected_value_consolation = consolation_prob * consolation_prize_amount\n",
    "print(f\"Expected value of the consolation prize: ${expected_value_consolation:.2f}\")"
   ]
  }
 ],
 "metadata": {
  "kernelspec": {
   "display_name": "base",
   "language": "python",
   "name": "python3"
  },
  "language_info": {
   "codemirror_mode": {
    "name": "ipython",
    "version": 3
   },
   "file_extension": ".py",
   "mimetype": "text/x-python",
   "name": "python",
   "nbconvert_exporter": "python",
   "pygments_lexer": "ipython3",
   "version": "3.11.5"
  }
 },
 "nbformat": 4,
 "nbformat_minor": 2
}
