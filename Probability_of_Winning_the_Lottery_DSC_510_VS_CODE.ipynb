{
 "cells": [
  {
   "cell_type": "markdown",
   "metadata": {},
   "source": [
    "Part 1: Probability of Winning – Discrete or Continuous\n",
    "The probability of winning the lottery by matching all 6 numbers out of 51 is discrete. This is because the outcome  is based on distinct, countable events, either the chosen numbers match exactly or they don’t. Probability is calculated by considering all possible combinations of 6 numbers out of 51, and because there are a finite number of combinations, the probability is discrete."
   ]
  },
  {
   "cell_type": "code",
   "execution_count": 1,
   "metadata": {},
   "outputs": [
    {
     "name": "stdout",
     "output_type": "stream",
     "text": [
      "The probability of winning the grand prize is: 0.0000000555\n"
     ]
    }
   ],
   "source": [
    "from math import comb\n",
    "\n",
    "def winning_probability():\n",
    "    total_combinations = comb(51, 6)\n",
    "    return 1 / total_combinations\n",
    "\n",
    "win_prob = winning_probability()\n",
    "print(f\"The probability of winning the grand prize is: {win_prob:.10f}\")"
   ]
  },
  {
   "cell_type": "markdown",
   "metadata": {},
   "source": [
    "Part 2: Alexandra's Lifetime Lottery Strategy\n",
    "Calculating Spending:\n",
    "Alexandra buys 1 ticket every 24 hours, or 1 ticket per day, for 365 days a year, over 80 years. Each ticket costs $5, so her total spending is calculated as:\n",
    "Spending Calculation:\n",
    "Total Spending=5×365×80=146,000\\text{Total Spending} = 5 \\times 365 \\times 80 = 146,000Total Spending=5×365×80=146,000\n",
    "Calculating Probability of Winning at Least Once:\n",
    "Over her lifetime, Alexandra will buy a total of 365×80=29,200365 \\times 80 = 29,200365×80=29,200 tickets. To find the probability of winning at least once, we calculate the probability of not winning each time and raise it to the total number of tickets. The probability of winning at least once is the complement of this result."
   ]
  },
  {
   "cell_type": "code",
   "execution_count": 2,
   "metadata": {},
   "outputs": [
    {
     "name": "stdout",
     "output_type": "stream",
     "text": [
      "Alexandra's total spending: $146000\n",
      "Probability Alexandra wins at least once: 0.0016200564\n"
     ]
    }
   ],
   "source": [
    "def lifetime_spending(ticket_cost=5, days_per_year=365, years=80):\n",
    "    total_tickets = days_per_year * years\n",
    "    return total_tickets * ticket_cost\n",
    "\n",
    "def probability_at_least_one_win(win_prob, total_tickets):\n",
    "    prob_no_win = (1 - win_prob) ** total_tickets\n",
    "    return 1 - prob_no_win\n",
    "\n",
    "spending = lifetime_spending()\n",
    "total_tickets = 365 * 80\n",
    "win_prob = winning_probability()\n",
    "alexandra_win_prob = probability_at_least_one_win(win_prob, total_tickets)\n",
    "\n",
    "print(f\"Alexandra's total spending: ${spending}\")\n",
    "print(f\"Probability Alexandra wins at least once: {alexandra_win_prob:.10f}\")"
   ]
  },
  {
   "cell_type": "markdown",
   "metadata": {},
   "source": [
    "Part 3: Amir's Friends Strategy (Nmin Calculation)\n",
    "For Amir's group, we want to find the minimum number of friends NNN (denoted NminN_{min}Nmin​) required to reach a winning probability of at least epsilon for a single drawing. Using the formula:\n",
    "N=ln⁡(1−ϵ)ln⁡(1−Pwin)N = \\frac{\\ln(1 - \\epsilon)}{\\ln(1 - P_{\\text{win}})}N=ln(1−Pwin​)ln(1−ϵ)​\n",
    "we can calculate NminN_{min}Nmin​ for each value of epsilon provided."
   ]
  },
  {
   "cell_type": "markdown",
   "metadata": {},
   "source": [
    "Part 4: Increasing Winning Probability Above 0.5\n",
    "If Amir’s group has organized enough people to reach a winning probability of 0.5, they can increase their odds without adding more people by ensuring that each friend selects a unique set of numbers (no duplicates between tickets). This approach maximizes coverage of different possible combinations and reduces the overlap, effectively increasing the group’s overall probability of winning beyond 0.5.\n"
   ]
  },
  {
   "cell_type": "code",
   "execution_count": 3,
   "metadata": {},
   "outputs": [
    {
     "name": "stdout",
     "output_type": "stream",
     "text": [
      "Minimum number of friends needed for each epsilon value:\n",
      "epsilon = 1e-05: Nmin = 181\n",
      "epsilon = 0.001: Nmin = 18019\n",
      "epsilon = 0.1: Nmin = 1897486\n",
      "epsilon = 0.5: Nmin = 12483207\n"
     ]
    }
   ],
   "source": [
    "import math\n",
    "\n",
    "def minimum_friends(win_prob, epsilon):\n",
    "    N = math.ceil(math.log(1 - epsilon) / math.log(1 - win_prob))\n",
    "    return N\n",
    "\n",
    "epsilon_values = [10**-5, 10**-3, 0.1, 0.5]\n",
    "win_prob = winning_probability()\n",
    "Nmin_values = {epsilon: minimum_friends(win_prob, epsilon) for epsilon in epsilon_values}\n",
    "\n",
    "print(\"Minimum number of friends needed for each epsilon value:\")\n",
    "for epsilon, N in Nmin_values.items():\n",
    "    print(f\"epsilon = {epsilon}: Nmin = {N}\")"
   ]
  },
  {
   "cell_type": "markdown",
   "metadata": {},
   "source": [
    "Part 5: Consolation Prize Probability and Expected Value\n",
    "Calculating Probability of Winning the Consolation Prize:\n",
    "The consolation prize is awarded if exactly 3 out of 6 numbers match. We calculate the probability of matching exactly 3 correct numbers and 3 incorrect numbers, then divide by the total possible combinations.\n",
    "Probability Formula:\n",
    "Pconsolation=(63)⋅(453)(516)P_{\\text{consolation}} = \\frac{\\binom{6}{3} \\cdot \\binom{45}{3}}{\\binom{51}{6}}Pconsolation​=(651​)(36​)⋅(345​)​\n",
    "Expected Value of the Consolation Prize:\n",
    "Assuming a prize amount of, for example, $50 for the consolation prize, the expected value can be calculated by multiplying the consolation prize probability by the prize amount."
   ]
  },
  {
   "cell_type": "code",
   "execution_count": 4,
   "metadata": {},
   "outputs": [
    {
     "name": "stdout",
     "output_type": "stream",
     "text": [
      "The probability of winning the consolation prize is: 0.0157583848\n",
      "Expected value of the consolation prize: $0.79\n"
     ]
    }
   ],
   "source": [
    "def consolation_probability():\n",
    "    ways_to_choose_3_correct = comb(6, 3)\n",
    "    ways_to_choose_3_incorrect = comb(51 - 6, 3)\n",
    "    total_combinations = comb(51, 6)\n",
    "    return (ways_to_choose_3_correct * ways_to_choose_3_incorrect) / total_combinations\n",
    "\n",
    "consolation_prob = consolation_probability()\n",
    "print(f\"The probability of winning the consolation prize is: {consolation_prob:.10f}\")\n",
    "\n",
    "# Expected value calculation with an assumed consolation prize amount\n",
    "consolation_prize_amount = 50  # Example amount\n",
    "expected_value_consolation = consolation_prob * consolation_prize_amount\n",
    "print(f\"Expected value of the consolation prize: ${expected_value_consolation:.2f}\")"
   ]
  }
 ],
 "metadata": {
  "kernelspec": {
   "display_name": "base",
   "language": "python",
   "name": "python3"
  },
  "language_info": {
   "codemirror_mode": {
    "name": "ipython",
    "version": 3
   },
   "file_extension": ".py",
   "mimetype": "text/x-python",
   "name": "python",
   "nbconvert_exporter": "python",
   "pygments_lexer": "ipython3",
   "version": "3.11.5"
  }
 },
 "nbformat": 4,
 "nbformat_minor": 2
}
